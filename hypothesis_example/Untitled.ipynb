{
 "cells": [
  {
   "cell_type": "code",
   "execution_count": 3,
   "id": "3bec6673",
   "metadata": {},
   "outputs": [],
   "source": [
    "import pandas as pd\n",
    "import hypothesis\n",
    "\n",
    "from hypothesis.extra.pandas import data_frames, column"
   ]
  },
  {
   "cell_type": "code",
   "execution_count": 2,
   "id": "5cedf29a",
   "metadata": {},
   "outputs": [
    {
     "ename": "ModuleNotFoundError",
     "evalue": "No module named 'hypothesis.extra'; 'hypothesis' is not a package",
     "output_type": "error",
     "traceback": [
      "\u001b[0;31m---------------------------------------------------------------------------\u001b[0m",
      "\u001b[0;31mModuleNotFoundError\u001b[0m                       Traceback (most recent call last)",
      "Cell \u001b[0;32mIn[2], line 1\u001b[0m\n\u001b[0;32m----> 1\u001b[0m \u001b[38;5;28;01mimport\u001b[39;00m \u001b[38;5;21;01mhypothesis\u001b[39;00m\u001b[38;5;21;01m.\u001b[39;00m\u001b[38;5;21;01mextra\u001b[39;00m\n",
      "\u001b[0;31mModuleNotFoundError\u001b[0m: No module named 'hypothesis.extra'; 'hypothesis' is not a package"
     ]
    }
   ],
   "source": [
    "data_frames([column('A', dtype=int), column('B', dtype=float)]).example()"
   ]
  },
  {
   "cell_type": "code",
   "execution_count": 1,
   "id": "6468c698",
   "metadata": {},
   "outputs": [
    {
     "ename": "ModuleNotFoundError",
     "evalue": "No module named 'hypothesis.extra'; 'hypothesis' is not a package",
     "output_type": "error",
     "traceback": [
      "\u001b[0;31m---------------------------------------------------------------------------\u001b[0m",
      "\u001b[0;31mModuleNotFoundError\u001b[0m                       Traceback (most recent call last)",
      "Cell \u001b[0;32mIn[1], line 1\u001b[0m\n\u001b[0;32m----> 1\u001b[0m \u001b[38;5;28;01mfrom\u001b[39;00m \u001b[38;5;21;01mhypothesis\u001b[39;00m\u001b[38;5;21;01m.\u001b[39;00m\u001b[38;5;21;01mextra\u001b[39;00m\u001b[38;5;21;01m.\u001b[39;00m\u001b[38;5;21;01mpandas\u001b[39;00m \u001b[38;5;28;01mimport\u001b[39;00m data_frames\n",
      "\u001b[0;31mModuleNotFoundError\u001b[0m: No module named 'hypothesis.extra'; 'hypothesis' is not a package"
     ]
    }
   ],
   "source": [
    "from hypothesis.extra.pandas import data_frames"
   ]
  }
 ],
 "metadata": {
  "kernelspec": {
   "display_name": "dataframetrainer",
   "language": "python",
   "name": "dataframetrainer"
  },
  "language_info": {
   "codemirror_mode": {
    "name": "ipython",
    "version": 3
   },
   "file_extension": ".py",
   "mimetype": "text/x-python",
   "name": "python",
   "nbconvert_exporter": "python",
   "pygments_lexer": "ipython3",
   "version": "3.9.16"
  }
 },
 "nbformat": 4,
 "nbformat_minor": 5
}
