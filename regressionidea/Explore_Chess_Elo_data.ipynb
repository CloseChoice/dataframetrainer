{
 "cells": [
  {
   "cell_type": "code",
   "execution_count": 28,
   "id": "213b3183",
   "metadata": {},
   "outputs": [],
   "source": [
    "import pandas as pd\n",
    "import numpy as np"
   ]
  },
  {
   "cell_type": "code",
   "execution_count": 20,
   "id": "692eddd0",
   "metadata": {},
   "outputs": [],
   "source": [
    "df = pd.read_csv(\"data/training_data.csv\")"
   ]
  },
  {
   "cell_type": "code",
   "execution_count": 22,
   "id": "e39bab45",
   "metadata": {},
   "outputs": [],
   "source": [
    "df.columns = ['month', 'white', 'black', 'score']"
   ]
  },
  {
   "cell_type": "code",
   "execution_count": 23,
   "id": "f0def391",
   "metadata": {},
   "outputs": [],
   "source": [
    "values = pd.Series(df['white'].tolist() + df[\"black\"].tolist()).value_counts().sort_values()"
   ]
  },
  {
   "cell_type": "code",
   "execution_count": 25,
   "id": "1b862d85",
   "metadata": {},
   "outputs": [
    {
     "data": {
      "text/plain": [
       "2980     11\n",
       "7685     11\n",
       "3687     11\n",
       "4473     11\n",
       "609      11\n",
       "       ... \n",
       "64      258\n",
       "1286    270\n",
       "4037    272\n",
       "1594    276\n",
       "4850    280\n",
       "Length: 2888, dtype: int64"
      ]
     },
     "execution_count": 25,
     "metadata": {},
     "output_type": "execute_result"
    }
   ],
   "source": [
    "values[values > 10]"
   ]
  },
  {
   "cell_type": "code",
   "execution_count": 24,
   "id": "613455eb",
   "metadata": {},
   "outputs": [
    {
     "data": {
      "text/plain": [
       "0.5    28666\n",
       "1.0    21163\n",
       "0.0    15224\n",
       "Name: score, dtype: int64"
      ]
     },
     "execution_count": 24,
     "metadata": {},
     "output_type": "execute_result"
    }
   ],
   "source": [
    "df[\"score\"].value_counts()"
   ]
  },
  {
   "cell_type": "code",
   "execution_count": 32,
   "id": "b5b46952",
   "metadata": {},
   "outputs": [
    {
     "data": {
      "text/plain": [
       "-9.210340371976182"
      ]
     },
     "execution_count": 32,
     "metadata": {},
     "output_type": "execute_result"
    }
   ],
   "source": [
    "np.log(0.0001)"
   ]
  },
  {
   "cell_type": "code",
   "execution_count": 30,
   "id": "f9c2a7c2",
   "metadata": {},
   "outputs": [
    {
     "data": {
      "text/plain": [
       "-0.6931471805599453"
      ]
     },
     "execution_count": 30,
     "metadata": {},
     "output_type": "execute_result"
    }
   ],
   "source": [
    "0.5 * np.log(0.5) + 0.5 * np.log(0.5)"
   ]
  }
 ],
 "metadata": {
  "kernelspec": {
   "display_name": "dataframetrainer",
   "language": "python",
   "name": "dataframetrainer"
  },
  "language_info": {
   "codemirror_mode": {
    "name": "ipython",
    "version": 3
   },
   "file_extension": ".py",
   "mimetype": "text/x-python",
   "name": "python",
   "nbconvert_exporter": "python",
   "pygments_lexer": "ipython3",
   "version": "3.9.16"
  }
 },
 "nbformat": 4,
 "nbformat_minor": 5
}
